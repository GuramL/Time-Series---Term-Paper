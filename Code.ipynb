{
 "cells": [
  {
   "cell_type": "code",
   "execution_count": null,
   "metadata": {},
   "outputs": [],
   "source": [
    "############################################## Setup and Data Preparation #######################################\n",
    "\n",
    "import pandas as pd\n",
    "import numpy as np\n",
    "from statsmodels.tsa.api import VAR\n",
    "from statsmodels.tsa.stattools import adfuller\n",
    "from statsmodels.tsa.vector_ar.vecm import coint_johansen\n",
    "import matplotlib.pyplot as plt\n",
    "\n",
    "# Load your dataset\n",
    "rawdata = pd.read_excel(\"data.xlsx\", parse_dates=[\"t\"], index_col=\"t\")\n",
    "\n",
    "# Generate the variable of GDP growth\n",
    "\n",
    "# Calculate GDP growth as the percentage change in GDP\n",
    "rawdata['gdpgr'] = rawdata['realgdp'].pct_change()\n",
    "\n",
    "# Replace the first missing value (NaN) with 0\n",
    "rawdata['gdpgr'].fillna(0, inplace=True)\n",
    "\n",
    "# Ensure variables of interest are correctly defined\n",
    "variables = ['gdpgr', 'infl', 'unempl']\n",
    "data = rawdata[variables]\n",
    "\n",
    "# Add structural break dummies\n",
    "rawdata['Break_2003'] = (rawdata.index.year >= 2003).astype(int)\n",
    "rawdata['Break_2008'] = (rawdata.index.year >= 2008).astype(int)\n",
    "rawdata['Break_2020'] = (rawdata.index.year >= 2020).astype(int)\n",
    "rawdata['Break_2022'] = (rawdata.index.year >= 2022).astype(int)\n",
    "\n",
    "data['Break_2003'] = (data.index.year >= 2003).astype(int)\n",
    "data['Break_2008'] = (data.index.year >= 2008).astype(int)\n",
    "data['Break_2020'] = (data.index.year >= 2020).astype(int)\n",
    "data['Break_2022'] = (data.index.year >= 2022).astype(int)\n"
   ]
  },
  {
   "cell_type": "code",
   "execution_count": 24,
   "metadata": {},
   "outputs": [
    {
     "name": "stdout",
     "output_type": "stream",
     "text": [
      "gdpgr: {'ADF Statistic': np.float64(-5.119537838129054), 'p-value': np.float64(1.2804744291965265e-05)}\n",
      "infl: {'ADF Statistic': np.float64(-4.871515894848694), 'p-value': np.float64(3.961099848061527e-05)}\n",
      "unempl: {'ADF Statistic': np.float64(-1.4874144429774712), 'p-value': np.float64(0.5397277931886938)}\n"
     ]
    }
   ],
   "source": [
    "################################## Stationarity Testing ####################################\n",
    "\n",
    "# ADF Test Function\n",
    "def adf_test(series):\n",
    "    result = adfuller(series, autolag='AIC')\n",
    "    return {\"ADF Statistic\": result[0], \"p-value\": result[1]}\n",
    "\n",
    "# Test stationarity for all variables\n",
    "for var in variables:\n",
    "    result = adf_test(data[var].dropna())\n",
    "    print(f\"{var}: {result}\")\n",
    "\n",
    "\n",
    "    "
   ]
  },
  {
   "cell_type": "code",
   "execution_count": null,
   "metadata": {},
   "outputs": [],
   "source": [
    "################################ Making stationary ##############################\n",
    "\n",
    "rawdata['unemplgr'] = rawdata['unempl'].pct_change()\n",
    "rawdata['unemplgr'].fillna(0, inplace=True)\n",
    "\n",
    "data['unemplgr'] = rawdata['unempl'].pct_change()\n",
    "data['unemplgr'].fillna(0, inplace=True)\n",
    "\n",
    "statvariables=['gdpgr', 'infl', 'unemplgr']\n",
    "\n",
    "# ADF Test Function for modified variables\n",
    "def adf_test(series):\n",
    "    result = adfuller(series, autolag='AIC')\n",
    "    return {\"ADF Statistic\": result[0], \"p-value\": result[1]}\n",
    "\n",
    "# Test stationarity for all variables\n",
    "for var in statvariables:\n",
    "    result = adf_test(data[var].dropna())\n",
    "    print(f\"{var}: {result}\")\n"
   ]
  },
  {
   "cell_type": "code",
   "execution_count": 27,
   "metadata": {},
   "outputs": [
    {
     "ename": "ImportError",
     "evalue": "cannot import name 'select_order' from 'statsmodels.tsa.stattools' (/usr/local/python/3.12.1/lib/python3.12/site-packages/statsmodels/tsa/stattools.py)",
     "output_type": "error",
     "traceback": [
      "\u001b[0;31m---------------------------------------------------------------------------\u001b[0m",
      "\u001b[0;31mImportError\u001b[0m                               Traceback (most recent call last)",
      "Cell \u001b[0;32mIn[27], line 3\u001b[0m\n\u001b[1;32m      1\u001b[0m \u001b[38;5;66;03m####################################### Lag selection and VAR model ######################################\u001b[39;00m\n\u001b[0;32m----> 3\u001b[0m \u001b[38;5;28;01mfrom\u001b[39;00m \u001b[38;5;21;01mstatsmodels\u001b[39;00m\u001b[38;5;21;01m.\u001b[39;00m\u001b[38;5;21;01mtsa\u001b[39;00m\u001b[38;5;21;01m.\u001b[39;00m\u001b[38;5;21;01mstattools\u001b[39;00m \u001b[38;5;28;01mimport\u001b[39;00m select_order\n\u001b[1;32m      5\u001b[0m \u001b[38;5;66;03m# Select optimal lags\u001b[39;00m\n\u001b[1;32m      6\u001b[0m lag_selection \u001b[38;5;241m=\u001b[39m select_order(data_diff, maxlags\u001b[38;5;241m=\u001b[39m\u001b[38;5;241m10\u001b[39m, trend\u001b[38;5;241m=\u001b[39m\u001b[38;5;124m'\u001b[39m\u001b[38;5;124mc\u001b[39m\u001b[38;5;124m'\u001b[39m)\n",
      "\u001b[0;31mImportError\u001b[0m: cannot import name 'select_order' from 'statsmodels.tsa.stattools' (/usr/local/python/3.12.1/lib/python3.12/site-packages/statsmodels/tsa/stattools.py)"
     ]
    }
   ],
   "source": [
    "####################################### Lag selection and VAR model ######################################\n",
    "\n",
    "from statsmodels.tsa.stattools import select_order\n",
    "\n",
    "# Select optimal lags\n",
    "lag_selection = select_order(data_diff, maxlags=10, trend='c')\n",
    "optimal_lag = lag_selection.aic\n",
    "print(f\"Optimal Lag: {optimal_lag}\")\n",
    "\n",
    "# Fit VAR Model\n",
    "var_model = VAR(data_diff)\n",
    "var_results = var_model.fit(optimal_lag)\n",
    "\n",
    "# Display summary\n",
    "print(var_results.summary())"
   ]
  },
  {
   "cell_type": "code",
   "execution_count": null,
   "metadata": {},
   "outputs": [],
   "source": [
    "##################################### Impulse response functions and structural break analysis ######################\n",
    "\n",
    "\n",
    "# Plot Impulse Response Functions (IRFs)\n",
    "irf = var_results.irf(10)  # 10-period horizon\n",
    "irf.plot(orth=False)\n",
    "plt.show()\n",
    "\n",
    "# Analyze structural breaks by including dummies as exogenous variables\n",
    "exog_data = data[['Break_2003', 'Break_2008', 'Break_2020', 'Break_2022']]\n",
    "var_with_exog = var_model.fit(optimal_lag, exog=exog_data.iloc[1:])\n",
    "print(var_with_exog.summary())"
   ]
  },
  {
   "cell_type": "code",
   "execution_count": null,
   "metadata": {},
   "outputs": [],
   "source": [
    "################################# Incorporating IV ##########################\n",
    "\n",
    "from statsmodels.sandbox.regression.gmm import IV2SLS\n",
    "\n",
    "# Assuming 'GDP_similar' is your IV dataset\n",
    "iv_data = pd.read_csv(\"iv_data.csv\", parse_dates=[\"Year\"], index_col=\"Year\")\n",
    "\n",
    "# Merge IV with endogenous variables\n",
    "merged_data = pd.concat([data, iv_data], axis=1).dropna()\n",
    "\n",
    "# Perform IV regression for GDP growth\n",
    "iv_model = IV2SLS(\n",
    "    merged_data['GDP_growth'], \n",
    "    merged_data[['Inflation_rate', 'Unemployment']],  # endogenous regressors\n",
    "    merged_data[['GDP_similar1', 'GDP_similar2']]    # instruments\n",
    ")\n",
    "iv_results = iv_model.fit()\n",
    "print(iv_results.summary)"
   ]
  },
  {
   "cell_type": "code",
   "execution_count": null,
   "metadata": {},
   "outputs": [],
   "source": [
    "################################### Robustness Check ######################################\n",
    "\n",
    "# Subsample analysis (e.g., pre-2022 and post-2022)\n",
    "pre_2022 = data[data.index.year < 2022]\n",
    "post_2022 = data[data.index.year >= 2022]\n",
    "\n",
    "# Fit separate VAR models for each sample\n",
    "var_pre = VAR(pre_2022.diff().dropna()).fit(optimal_lag)\n",
    "var_post = VAR(post_2022.diff().dropna()).fit(optimal_lag)\n",
    "\n",
    "# Compare impulse responses\n",
    "irf_pre = var_pre.irf(10)\n",
    "irf_post = var_post.irf(10)\n",
    "\n",
    "irf_pre.plot(orth=False, title=\"Pre-2022 IRF\")\n",
    "irf_post.plot(orth=False, title=\"Post-2022 IRF\")\n",
    "plt.show()"
   ]
  }
 ],
 "metadata": {
  "kernelspec": {
   "display_name": "Python 3",
   "language": "python",
   "name": "python3"
  },
  "language_info": {
   "codemirror_mode": {
    "name": "ipython",
    "version": 3
   },
   "file_extension": ".py",
   "mimetype": "text/x-python",
   "name": "python",
   "nbconvert_exporter": "python",
   "pygments_lexer": "ipython3",
   "version": "3.12.1"
  }
 },
 "nbformat": 4,
 "nbformat_minor": 2
}
