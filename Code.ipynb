{
 "cells": [
  {
   "cell_type": "code",
   "execution_count": 1,
   "metadata": {},
   "outputs": [
    {
     "name": "stderr",
     "output_type": "stream",
     "text": [
      "/tmp/ipykernel_2478/3114680070.py:16: FutureWarning: The default fill_method='pad' in Series.pct_change is deprecated and will be removed in a future version. Either fill in any non-leading NA values prior to calling pct_change or specify 'fill_method=None' to not fill NA values.\n",
      "  rawdata['gdpgr'] = rawdata['realgdp'].pct_change()\n",
      "/tmp/ipykernel_2478/3114680070.py:19: FutureWarning: A value is trying to be set on a copy of a DataFrame or Series through chained assignment using an inplace method.\n",
      "The behavior will change in pandas 3.0. This inplace method will never work because the intermediate object on which we are setting values always behaves as a copy.\n",
      "\n",
      "For example, when doing 'df[col].method(value, inplace=True)', try using 'df.method({col: value}, inplace=True)' or df[col] = df[col].method(value) instead, to perform the operation inplace on the original object.\n",
      "\n",
      "\n",
      "  rawdata['gdpgr'].fillna(0, inplace=True)\n",
      "/tmp/ipykernel_2478/3114680070.py:31: SettingWithCopyWarning: \n",
      "A value is trying to be set on a copy of a slice from a DataFrame.\n",
      "Try using .loc[row_indexer,col_indexer] = value instead\n",
      "\n",
      "See the caveats in the documentation: https://pandas.pydata.org/pandas-docs/stable/user_guide/indexing.html#returning-a-view-versus-a-copy\n",
      "  data['Break_2003'] = (data.index.year >= 2003).astype(int)\n",
      "/tmp/ipykernel_2478/3114680070.py:32: SettingWithCopyWarning: \n",
      "A value is trying to be set on a copy of a slice from a DataFrame.\n",
      "Try using .loc[row_indexer,col_indexer] = value instead\n",
      "\n",
      "See the caveats in the documentation: https://pandas.pydata.org/pandas-docs/stable/user_guide/indexing.html#returning-a-view-versus-a-copy\n",
      "  data['Break_2008'] = (data.index.year >= 2008).astype(int)\n",
      "/tmp/ipykernel_2478/3114680070.py:33: SettingWithCopyWarning: \n",
      "A value is trying to be set on a copy of a slice from a DataFrame.\n",
      "Try using .loc[row_indexer,col_indexer] = value instead\n",
      "\n",
      "See the caveats in the documentation: https://pandas.pydata.org/pandas-docs/stable/user_guide/indexing.html#returning-a-view-versus-a-copy\n",
      "  data['Break_2020'] = (data.index.year >= 2020).astype(int)\n",
      "/tmp/ipykernel_2478/3114680070.py:34: SettingWithCopyWarning: \n",
      "A value is trying to be set on a copy of a slice from a DataFrame.\n",
      "Try using .loc[row_indexer,col_indexer] = value instead\n",
      "\n",
      "See the caveats in the documentation: https://pandas.pydata.org/pandas-docs/stable/user_guide/indexing.html#returning-a-view-versus-a-copy\n",
      "  data['Break_2022'] = (data.index.year >= 2022).astype(int)\n"
     ]
    }
   ],
   "source": [
    "############################################## Setup and Data Preparation #######################################\n",
    "\n",
    "import pandas as pd\n",
    "import numpy as np\n",
    "from statsmodels.tsa.api import VAR\n",
    "from statsmodels.tsa.stattools import adfuller\n",
    "from statsmodels.tsa.vector_ar.vecm import coint_johansen\n",
    "import matplotlib.pyplot as plt\n",
    "\n",
    "# Load your dataset\n",
    "rawdata = pd.read_excel(\"data.xlsx\", parse_dates=[\"t\"], index_col=\"t\")\n",
    "\n",
    "# Generate the variable of GDP growth\n",
    "\n",
    "# Calculate GDP growth as the percentage change in GDP\n",
    "rawdata['gdpgr'] = rawdata['realgdp'].pct_change()\n",
    "\n",
    "# Replace the first missing value (NaN) with 0\n",
    "rawdata['gdpgr'].fillna(0, inplace=True)\n",
    "\n",
    "# Ensure variables of interest are correctly defined\n",
    "variables = ['gdpgr', 'infl', 'unempl']\n",
    "data = rawdata[variables]\n",
    "\n",
    "# Add structural break dummies\n",
    "rawdata['Break_2003'] = (rawdata.index.year >= 2003).astype(int)\n",
    "rawdata['Break_2008'] = (rawdata.index.year >= 2008).astype(int)\n",
    "rawdata['Break_2020'] = (rawdata.index.year >= 2020).astype(int)\n",
    "rawdata['Break_2022'] = (rawdata.index.year >= 2022).astype(int)\n",
    "\n",
    "data['Break_2003'] = (data.index.year >= 2003).astype(int)\n",
    "data['Break_2008'] = (data.index.year >= 2008).astype(int)\n",
    "data['Break_2020'] = (data.index.year >= 2020).astype(int)\n",
    "data['Break_2022'] = (data.index.year >= 2022).astype(int)\n"
   ]
  },
  {
   "cell_type": "code",
   "execution_count": 11,
   "metadata": {},
   "outputs": [
    {
     "name": "stdout",
     "output_type": "stream",
     "text": [
      "gdpgr: {'ADF Statistic': np.float64(-5.119537838129054), 'p-value': np.float64(1.2804744291965265e-05)}\n",
      "infl: {'ADF Statistic': np.float64(-4.871515894848694), 'p-value': np.float64(3.961099848061527e-05)}\n",
      "unempl: {'ADF Statistic': np.float64(-1.4874144429774712), 'p-value': np.float64(0.5397277931886938)}\n"
     ]
    }
   ],
   "source": [
    "################################## Stationarity Testing ####################################\n",
    "\n",
    "# ADF Test Function\n",
    "def adf_test(series):\n",
    "    result = adfuller(series, autolag='AIC')\n",
    "    return {\"ADF Statistic\": result[0], \"p-value\": result[1]}\n",
    "\n",
    "# Test stationarity for all variables\n",
    "for var in variables:\n",
    "    result = adf_test(data[var].dropna())\n",
    "    print(f\"{var}: {result}\")\n",
    "\n",
    "\n",
    "data=data.head(31)\n",
    "\n",
    "    "
   ]
  },
  {
   "cell_type": "code",
   "execution_count": 13,
   "metadata": {},
   "outputs": [
    {
     "name": "stdout",
     "output_type": "stream",
     "text": [
      "gdpgr: {'ADF Statistic': np.float64(-4.778216581784284), 'p-value': np.float64(5.9851728914549474e-05)}\n",
      "infl: {'ADF Statistic': np.float64(-4.75592105659155), 'p-value': np.float64(6.598976071700558e-05)}\n",
      "unemplgr: {'ADF Statistic': np.float64(-6.684974213904092), 'p-value': np.float64(4.248613057219538e-09)}\n"
     ]
    },
    {
     "name": "stderr",
     "output_type": "stream",
     "text": [
      "/tmp/ipykernel_2478/38193520.py:3: FutureWarning: The default fill_method='pad' in Series.pct_change is deprecated and will be removed in a future version. Either fill in any non-leading NA values prior to calling pct_change or specify 'fill_method=None' to not fill NA values.\n",
      "  rawdata['unemplgr'] = rawdata['unempl'].pct_change()\n",
      "/tmp/ipykernel_2478/38193520.py:4: FutureWarning: A value is trying to be set on a copy of a DataFrame or Series through chained assignment using an inplace method.\n",
      "The behavior will change in pandas 3.0. This inplace method will never work because the intermediate object on which we are setting values always behaves as a copy.\n",
      "\n",
      "For example, when doing 'df[col].method(value, inplace=True)', try using 'df.method({col: value}, inplace=True)' or df[col] = df[col].method(value) instead, to perform the operation inplace on the original object.\n",
      "\n",
      "\n",
      "  rawdata['unemplgr'].fillna(0, inplace=True)\n",
      "/tmp/ipykernel_2478/38193520.py:6: SettingWithCopyWarning: \n",
      "A value is trying to be set on a copy of a slice from a DataFrame.\n",
      "Try using .loc[row_indexer,col_indexer] = value instead\n",
      "\n",
      "See the caveats in the documentation: https://pandas.pydata.org/pandas-docs/stable/user_guide/indexing.html#returning-a-view-versus-a-copy\n",
      "  data['unemplgr'] = data['unempl'].pct_change()\n",
      "/tmp/ipykernel_2478/38193520.py:7: FutureWarning: A value is trying to be set on a copy of a DataFrame or Series through chained assignment using an inplace method.\n",
      "The behavior will change in pandas 3.0. This inplace method will never work because the intermediate object on which we are setting values always behaves as a copy.\n",
      "\n",
      "For example, when doing 'df[col].method(value, inplace=True)', try using 'df.method({col: value}, inplace=True)' or df[col] = df[col].method(value) instead, to perform the operation inplace on the original object.\n",
      "\n",
      "\n",
      "  data['unemplgr'].fillna(0, inplace=True)\n",
      "/tmp/ipykernel_2478/38193520.py:7: SettingWithCopyWarning: \n",
      "A value is trying to be set on a copy of a slice from a DataFrame\n",
      "\n",
      "See the caveats in the documentation: https://pandas.pydata.org/pandas-docs/stable/user_guide/indexing.html#returning-a-view-versus-a-copy\n",
      "  data['unemplgr'].fillna(0, inplace=True)\n"
     ]
    }
   ],
   "source": [
    "################################ Making stationary ##############################\n",
    "\n",
    "rawdata['unemplgr'] = rawdata['unempl'].pct_change()\n",
    "rawdata['unemplgr'].fillna(0, inplace=True)\n",
    "\n",
    "data['unemplgr'] = data['unempl'].pct_change()\n",
    "data['unemplgr'].fillna(0, inplace=True)\n",
    "\n",
    "statvariables=['gdpgr', 'infl', 'unemplgr']\n",
    "\n",
    "# ADF Test Function for modified variables\n",
    "def adf_test(series):\n",
    "    result = adfuller(series, autolag='AIC')\n",
    "    return {\"ADF Statistic\": result[0], \"p-value\": result[1]}\n",
    "\n",
    "# Test stationarity for all variables\n",
    "for var in statvariables:\n",
    "    result = adf_test(data[var].dropna())\n",
    "    print(f\"{var}: {result}\")\n"
   ]
  },
  {
   "cell_type": "code",
   "execution_count": null,
   "metadata": {},
   "outputs": [
    {
     "name": "stdout",
     "output_type": "stream",
     "text": [
      " VAR Order Selection (* highlights the minimums) \n",
      "=================================================\n",
      "      AIC         BIC         FPE         HQIC   \n",
      "-------------------------------------------------\n",
      "0      -14.53      -14.16   4.873e-07      -14.42\n",
      "1      -22.48      -19.08   2.051e-10      -21.41\n",
      "2     -83.34*     -76.93*  2.522e-36*     -81.33*\n",
      "-------------------------------------------------\n"
     ]
    },
    {
     "name": "stderr",
     "output_type": "stream",
     "text": [
      "/home/codespace/.python/current/lib/python3.12/site-packages/statsmodels/tsa/base/tsa_model.py:473: ValueWarning: No frequency information was provided, so inferred frequency YS-JAN will be used.\n",
      "  self._init_dates(dates, freq)\n"
     ]
    }
   ],
   "source": [
    "########################################## Optimal number of lags ###########################################3\n",
    "\n",
    "from statsmodels.tsa.api import VAR\n",
    "\n",
    "# Fit the VAR model and determine the optimal lag\n",
    "model = VAR(data)  \n",
    "lag_selection = model.select_order(maxlags=2)\n",
    "print(lag_selection.summary())"
   ]
  },
  {
   "cell_type": "code",
   "execution_count": 20,
   "metadata": {},
   "outputs": [
    {
     "ename": "AttributeError",
     "evalue": "'VAR' object has no attribute 'irf'",
     "output_type": "error",
     "traceback": [
      "\u001b[0;31m---------------------------------------------------------------------------\u001b[0m",
      "\u001b[0;31mAttributeError\u001b[0m                            Traceback (most recent call last)",
      "Cell \u001b[0;32mIn[20], line 5\u001b[0m\n\u001b[1;32m      1\u001b[0m \u001b[38;5;66;03m##################################### Impulse response functions and structural break analysis ######################\u001b[39;00m\n\u001b[1;32m      2\u001b[0m \n\u001b[1;32m      3\u001b[0m \n\u001b[1;32m      4\u001b[0m \u001b[38;5;66;03m# Plot Impulse Response Functions (IRFs)\u001b[39;00m\n\u001b[0;32m----> 5\u001b[0m irf \u001b[38;5;241m=\u001b[39m \u001b[43mmodel\u001b[49m\u001b[38;5;241;43m.\u001b[39;49m\u001b[43mirf\u001b[49m(\u001b[38;5;241m10\u001b[39m)  \u001b[38;5;66;03m# 10-period horizon\u001b[39;00m\n\u001b[1;32m      6\u001b[0m irf\u001b[38;5;241m.\u001b[39mplot(orth\u001b[38;5;241m=\u001b[39m\u001b[38;5;28;01mFalse\u001b[39;00m)\n\u001b[1;32m      7\u001b[0m plt\u001b[38;5;241m.\u001b[39mshow()\n",
      "\u001b[0;31mAttributeError\u001b[0m: 'VAR' object has no attribute 'irf'"
     ]
    }
   ],
   "source": [
    "##################################### Impulse response functions and structural break analysis ######################\n",
    "\n",
    "\n",
    "# Plot Impulse Response Functions (IRFs)\n",
    "irf = model.irf(10)  # 10-period horizon\n",
    "irf.plot(orth=False)\n",
    "plt.show()\n",
    "\n",
    "# Analyze structural breaks by including dummies as exogenous variables\n",
    "exog_data = data[['Break_2003', 'Break_2008', 'Break_2020', 'Break_2022']]\n",
    "var_with_exog = var_model.fit(optimal_lag, exog=exog_data.iloc[1:])\n",
    "print(var_with_exog.summary())"
   ]
  },
  {
   "cell_type": "code",
   "execution_count": null,
   "metadata": {},
   "outputs": [],
   "source": [
    "################################# Incorporating IV ##########################\n",
    "\n",
    "from statsmodels.sandbox.regression.gmm import IV2SLS\n",
    "\n",
    "# Assuming 'GDP_similar' is your IV dataset\n",
    "iv_data = pd.read_csv(\"iv_data.csv\", parse_dates=[\"Year\"], index_col=\"Year\")\n",
    "\n",
    "# Merge IV with endogenous variables\n",
    "merged_data = pd.concat([data, iv_data], axis=1).dropna()\n",
    "\n",
    "# Perform IV regression for GDP growth\n",
    "iv_model = IV2SLS(\n",
    "    merged_data['GDP_growth'], \n",
    "    merged_data[['Inflation_rate', 'Unemployment']],  # endogenous regressors\n",
    "    merged_data[['GDP_similar1', 'GDP_similar2']]    # instruments\n",
    ")\n",
    "iv_results = iv_model.fit()\n",
    "print(iv_results.summary)"
   ]
  },
  {
   "cell_type": "code",
   "execution_count": null,
   "metadata": {},
   "outputs": [],
   "source": [
    "################################### Robustness Check ######################################\n",
    "\n",
    "# Subsample analysis (e.g., pre-2022 and post-2022)\n",
    "pre_2022 = data[data.index.year < 2022]\n",
    "post_2022 = data[data.index.year >= 2022]\n",
    "\n",
    "# Fit separate VAR models for each sample\n",
    "var_pre = VAR(pre_2022.diff().dropna()).fit(optimal_lag)\n",
    "var_post = VAR(post_2022.diff().dropna()).fit(optimal_lag)\n",
    "\n",
    "# Compare impulse responses\n",
    "irf_pre = var_pre.irf(10)\n",
    "irf_post = var_post.irf(10)\n",
    "\n",
    "irf_pre.plot(orth=False, title=\"Pre-2022 IRF\")\n",
    "irf_post.plot(orth=False, title=\"Post-2022 IRF\")\n",
    "plt.show()"
   ]
  }
 ],
 "metadata": {
  "kernelspec": {
   "display_name": "Python 3",
   "language": "python",
   "name": "python3"
  },
  "language_info": {
   "codemirror_mode": {
    "name": "ipython",
    "version": 3
   },
   "file_extension": ".py",
   "mimetype": "text/x-python",
   "name": "python",
   "nbconvert_exporter": "python",
   "pygments_lexer": "ipython3",
   "version": "3.12.1"
  }
 },
 "nbformat": 4,
 "nbformat_minor": 2
}
